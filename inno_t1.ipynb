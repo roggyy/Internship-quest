{
  "nbformat": 4,
  "nbformat_minor": 0,
  "metadata": {
    "colab": {
      "provenance": [],
      "authorship_tag": "ABX9TyM/CWrdk0tqRlSqFwybuhaQ",
      "include_colab_link": true
    },
    "kernelspec": {
      "name": "python3",
      "display_name": "Python 3"
    },
    "language_info": {
      "name": "python"
    }
  },
  "cells": [
    {
      "cell_type": "markdown",
      "metadata": {
        "id": "view-in-github",
        "colab_type": "text"
      },
      "source": [
        "<a href=\"https://colab.research.google.com/github/roggyy/Internship-quest/blob/main/inno_t1.ipynb\" target=\"_parent\"><img src=\"https://colab.research.google.com/assets/colab-badge.svg\" alt=\"Open In Colab\"/></a>"
      ]
    },
    {
      "cell_type": "code",
      "execution_count": 119,
      "metadata": {
        "id": "ijiQyvYCvVG2"
      },
      "outputs": [],
      "source": [
        "import pandas as pd\n",
        "import numpy as np\n",
        "import re"
      ]
    },
    {
      "cell_type": "code",
      "source": [
        "df= pd.read_csv(\"/content/raw_data_v11_3.csv\")\n",
        "df.head()"
      ],
      "metadata": {
        "colab": {
          "base_uri": "https://localhost:8080/",
          "height": 432
        },
        "id": "q36ag2EYvj_G",
        "outputId": "a231051b-a308-4558-a502-5a691375e6af"
      },
      "execution_count": 120,
      "outputs": [
        {
          "output_type": "execute_result",
          "data": {
            "text/plain": [
              "  Date of Birth                   What is your current profession?  \\\n",
              "0     9/16/2000  Fresher (I have completed my Education and loo...   \n",
              "1      2/6/1998  Fresher (I have completed my Education and loo...   \n",
              "2     10/8/2003  Student (I am currently enrolled in some Educa...   \n",
              "3    11/29/2001  Student (I am currently enrolled in some Educa...   \n",
              "4    11/25/2004  Student (I am currently enrolled in some Educa...   \n",
              "\n",
              "  What is the year of completion of your Highest Education Qualification?  \\\n",
              "0                                          7/30/2023                        \n",
              "1                                          5/18/2022                        \n",
              "2                                           4/1/2025                        \n",
              "3                                          5/15/2024                        \n",
              "4                                          1/10/2026                        \n",
              "\n",
              "          Which of the following best describes you?  \\\n",
              "0  I am currently enrolled in a Data Science cert...   \n",
              "1  I have never enrolled in any certification cou...   \n",
              "2  I am currently enrolled in a Data Science cert...   \n",
              "3  I have never enrolled in any certification cou...   \n",
              "4  I have completed a Data Science certification ...   \n",
              "\n",
              "  Please mention the name of the institute where you have completed or are currently pursuing your Data Science Certification Course.  \\\n",
              "0                           Innomatics Research Labs                                                                                    \n",
              "1                                                NaN                                                                                    \n",
              "2                                                NaN                                                                                    \n",
              "3                                                NaN                                                                                    \n",
              "4         Velagapudi ramakrishna Siddhartha college                                                                                     \n",
              "\n",
              "  In case your certification institute is \"Innomatics Research Labs\", please provide your Enrolled Batch Number.  \\\n",
              "0                                                251                                                               \n",
              "1                                                NaN                                                               \n",
              "2                                                NaN                                                               \n",
              "3                                                NaN                                                               \n",
              "4                                                 Na                                                               \n",
              "\n",
              "  Please indicate the time that suits you for your daily LIVE interaction with our Chief Data Scientist as part of your internship.  \\\n",
              "0                                6:00 to 7:00 PM IST                                                                                  \n",
              "1                                6:00 to 7:00 PM IST                                                                                  \n",
              "2                                6:00 to 7:00 PM IST                                                                                  \n",
              "3                                5:00 to 6:00 PM IST                                                                                  \n",
              "4                                6:00 to 7:00 PM IST                                                                                  \n",
              "\n",
              "  What do you think are most important skill right now for a skilled Data Scientist?  \n",
              "0  Extracting actionable insights from the raw da...                                  \n",
              "1   Extracting actionable insights from the raw data                                  \n",
              "2                                     Data Modelling                                  \n",
              "3  Extracting actionable insights from the raw da...                                  \n",
              "4  Extracting actionable insights from the raw da...                                  "
            ],
            "text/html": [
              "\n",
              "  <div id=\"df-4c778146-4411-4ffc-bd4a-de4d550eaa3d\" class=\"colab-df-container\">\n",
              "    <div>\n",
              "<style scoped>\n",
              "    .dataframe tbody tr th:only-of-type {\n",
              "        vertical-align: middle;\n",
              "    }\n",
              "\n",
              "    .dataframe tbody tr th {\n",
              "        vertical-align: top;\n",
              "    }\n",
              "\n",
              "    .dataframe thead th {\n",
              "        text-align: right;\n",
              "    }\n",
              "</style>\n",
              "<table border=\"1\" class=\"dataframe\">\n",
              "  <thead>\n",
              "    <tr style=\"text-align: right;\">\n",
              "      <th></th>\n",
              "      <th>Date of Birth</th>\n",
              "      <th>What is your current profession?</th>\n",
              "      <th>What is the year of completion of your Highest Education Qualification?</th>\n",
              "      <th>Which of the following best describes you?</th>\n",
              "      <th>Please mention the name of the institute where you have completed or are currently pursuing your Data Science Certification Course.</th>\n",
              "      <th>In case your certification institute is \"Innomatics Research Labs\", please provide your Enrolled Batch Number.</th>\n",
              "      <th>Please indicate the time that suits you for your daily LIVE interaction with our Chief Data Scientist as part of your internship.</th>\n",
              "      <th>What do you think are most important skill right now for a skilled Data Scientist?</th>\n",
              "    </tr>\n",
              "  </thead>\n",
              "  <tbody>\n",
              "    <tr>\n",
              "      <th>0</th>\n",
              "      <td>9/16/2000</td>\n",
              "      <td>Fresher (I have completed my Education and loo...</td>\n",
              "      <td>7/30/2023</td>\n",
              "      <td>I am currently enrolled in a Data Science cert...</td>\n",
              "      <td>Innomatics Research Labs</td>\n",
              "      <td>251</td>\n",
              "      <td>6:00 to 7:00 PM IST</td>\n",
              "      <td>Extracting actionable insights from the raw da...</td>\n",
              "    </tr>\n",
              "    <tr>\n",
              "      <th>1</th>\n",
              "      <td>2/6/1998</td>\n",
              "      <td>Fresher (I have completed my Education and loo...</td>\n",
              "      <td>5/18/2022</td>\n",
              "      <td>I have never enrolled in any certification cou...</td>\n",
              "      <td>NaN</td>\n",
              "      <td>NaN</td>\n",
              "      <td>6:00 to 7:00 PM IST</td>\n",
              "      <td>Extracting actionable insights from the raw data</td>\n",
              "    </tr>\n",
              "    <tr>\n",
              "      <th>2</th>\n",
              "      <td>10/8/2003</td>\n",
              "      <td>Student (I am currently enrolled in some Educa...</td>\n",
              "      <td>4/1/2025</td>\n",
              "      <td>I am currently enrolled in a Data Science cert...</td>\n",
              "      <td>NaN</td>\n",
              "      <td>NaN</td>\n",
              "      <td>6:00 to 7:00 PM IST</td>\n",
              "      <td>Data Modelling</td>\n",
              "    </tr>\n",
              "    <tr>\n",
              "      <th>3</th>\n",
              "      <td>11/29/2001</td>\n",
              "      <td>Student (I am currently enrolled in some Educa...</td>\n",
              "      <td>5/15/2024</td>\n",
              "      <td>I have never enrolled in any certification cou...</td>\n",
              "      <td>NaN</td>\n",
              "      <td>NaN</td>\n",
              "      <td>5:00 to 6:00 PM IST</td>\n",
              "      <td>Extracting actionable insights from the raw da...</td>\n",
              "    </tr>\n",
              "    <tr>\n",
              "      <th>4</th>\n",
              "      <td>11/25/2004</td>\n",
              "      <td>Student (I am currently enrolled in some Educa...</td>\n",
              "      <td>1/10/2026</td>\n",
              "      <td>I have completed a Data Science certification ...</td>\n",
              "      <td>Velagapudi ramakrishna Siddhartha college</td>\n",
              "      <td>Na</td>\n",
              "      <td>6:00 to 7:00 PM IST</td>\n",
              "      <td>Extracting actionable insights from the raw da...</td>\n",
              "    </tr>\n",
              "  </tbody>\n",
              "</table>\n",
              "</div>\n",
              "    <div class=\"colab-df-buttons\">\n",
              "\n",
              "  <div class=\"colab-df-container\">\n",
              "    <button class=\"colab-df-convert\" onclick=\"convertToInteractive('df-4c778146-4411-4ffc-bd4a-de4d550eaa3d')\"\n",
              "            title=\"Convert this dataframe to an interactive table.\"\n",
              "            style=\"display:none;\">\n",
              "\n",
              "  <svg xmlns=\"http://www.w3.org/2000/svg\" height=\"24px\" viewBox=\"0 -960 960 960\">\n",
              "    <path d=\"M120-120v-720h720v720H120Zm60-500h600v-160H180v160Zm220 220h160v-160H400v160Zm0 220h160v-160H400v160ZM180-400h160v-160H180v160Zm440 0h160v-160H620v160ZM180-180h160v-160H180v160Zm440 0h160v-160H620v160Z\"/>\n",
              "  </svg>\n",
              "    </button>\n",
              "\n",
              "  <style>\n",
              "    .colab-df-container {\n",
              "      display:flex;\n",
              "      gap: 12px;\n",
              "    }\n",
              "\n",
              "    .colab-df-convert {\n",
              "      background-color: #E8F0FE;\n",
              "      border: none;\n",
              "      border-radius: 50%;\n",
              "      cursor: pointer;\n",
              "      display: none;\n",
              "      fill: #1967D2;\n",
              "      height: 32px;\n",
              "      padding: 0 0 0 0;\n",
              "      width: 32px;\n",
              "    }\n",
              "\n",
              "    .colab-df-convert:hover {\n",
              "      background-color: #E2EBFA;\n",
              "      box-shadow: 0px 1px 2px rgba(60, 64, 67, 0.3), 0px 1px 3px 1px rgba(60, 64, 67, 0.15);\n",
              "      fill: #174EA6;\n",
              "    }\n",
              "\n",
              "    .colab-df-buttons div {\n",
              "      margin-bottom: 4px;\n",
              "    }\n",
              "\n",
              "    [theme=dark] .colab-df-convert {\n",
              "      background-color: #3B4455;\n",
              "      fill: #D2E3FC;\n",
              "    }\n",
              "\n",
              "    [theme=dark] .colab-df-convert:hover {\n",
              "      background-color: #434B5C;\n",
              "      box-shadow: 0px 1px 3px 1px rgba(0, 0, 0, 0.15);\n",
              "      filter: drop-shadow(0px 1px 2px rgba(0, 0, 0, 0.3));\n",
              "      fill: #FFFFFF;\n",
              "    }\n",
              "  </style>\n",
              "\n",
              "    <script>\n",
              "      const buttonEl =\n",
              "        document.querySelector('#df-4c778146-4411-4ffc-bd4a-de4d550eaa3d button.colab-df-convert');\n",
              "      buttonEl.style.display =\n",
              "        google.colab.kernel.accessAllowed ? 'block' : 'none';\n",
              "\n",
              "      async function convertToInteractive(key) {\n",
              "        const element = document.querySelector('#df-4c778146-4411-4ffc-bd4a-de4d550eaa3d');\n",
              "        const dataTable =\n",
              "          await google.colab.kernel.invokeFunction('convertToInteractive',\n",
              "                                                    [key], {});\n",
              "        if (!dataTable) return;\n",
              "\n",
              "        const docLinkHtml = 'Like what you see? Visit the ' +\n",
              "          '<a target=\"_blank\" href=https://colab.research.google.com/notebooks/data_table.ipynb>data table notebook</a>'\n",
              "          + ' to learn more about interactive tables.';\n",
              "        element.innerHTML = '';\n",
              "        dataTable['output_type'] = 'display_data';\n",
              "        await google.colab.output.renderOutput(dataTable, element);\n",
              "        const docLink = document.createElement('div');\n",
              "        docLink.innerHTML = docLinkHtml;\n",
              "        element.appendChild(docLink);\n",
              "      }\n",
              "    </script>\n",
              "  </div>\n",
              "\n",
              "\n",
              "<div id=\"df-d1f056c8-b1ae-4ff0-9eaf-91671279433a\">\n",
              "  <button class=\"colab-df-quickchart\" onclick=\"quickchart('df-d1f056c8-b1ae-4ff0-9eaf-91671279433a')\"\n",
              "            title=\"Suggest charts\"\n",
              "            style=\"display:none;\">\n",
              "\n",
              "<svg xmlns=\"http://www.w3.org/2000/svg\" height=\"24px\"viewBox=\"0 0 24 24\"\n",
              "     width=\"24px\">\n",
              "    <g>\n",
              "        <path d=\"M19 3H5c-1.1 0-2 .9-2 2v14c0 1.1.9 2 2 2h14c1.1 0 2-.9 2-2V5c0-1.1-.9-2-2-2zM9 17H7v-7h2v7zm4 0h-2V7h2v10zm4 0h-2v-4h2v4z\"/>\n",
              "    </g>\n",
              "</svg>\n",
              "  </button>\n",
              "\n",
              "<style>\n",
              "  .colab-df-quickchart {\n",
              "      --bg-color: #E8F0FE;\n",
              "      --fill-color: #1967D2;\n",
              "      --hover-bg-color: #E2EBFA;\n",
              "      --hover-fill-color: #174EA6;\n",
              "      --disabled-fill-color: #AAA;\n",
              "      --disabled-bg-color: #DDD;\n",
              "  }\n",
              "\n",
              "  [theme=dark] .colab-df-quickchart {\n",
              "      --bg-color: #3B4455;\n",
              "      --fill-color: #D2E3FC;\n",
              "      --hover-bg-color: #434B5C;\n",
              "      --hover-fill-color: #FFFFFF;\n",
              "      --disabled-bg-color: #3B4455;\n",
              "      --disabled-fill-color: #666;\n",
              "  }\n",
              "\n",
              "  .colab-df-quickchart {\n",
              "    background-color: var(--bg-color);\n",
              "    border: none;\n",
              "    border-radius: 50%;\n",
              "    cursor: pointer;\n",
              "    display: none;\n",
              "    fill: var(--fill-color);\n",
              "    height: 32px;\n",
              "    padding: 0;\n",
              "    width: 32px;\n",
              "  }\n",
              "\n",
              "  .colab-df-quickchart:hover {\n",
              "    background-color: var(--hover-bg-color);\n",
              "    box-shadow: 0 1px 2px rgba(60, 64, 67, 0.3), 0 1px 3px 1px rgba(60, 64, 67, 0.15);\n",
              "    fill: var(--button-hover-fill-color);\n",
              "  }\n",
              "\n",
              "  .colab-df-quickchart-complete:disabled,\n",
              "  .colab-df-quickchart-complete:disabled:hover {\n",
              "    background-color: var(--disabled-bg-color);\n",
              "    fill: var(--disabled-fill-color);\n",
              "    box-shadow: none;\n",
              "  }\n",
              "\n",
              "  .colab-df-spinner {\n",
              "    border: 2px solid var(--fill-color);\n",
              "    border-color: transparent;\n",
              "    border-bottom-color: var(--fill-color);\n",
              "    animation:\n",
              "      spin 1s steps(1) infinite;\n",
              "  }\n",
              "\n",
              "  @keyframes spin {\n",
              "    0% {\n",
              "      border-color: transparent;\n",
              "      border-bottom-color: var(--fill-color);\n",
              "      border-left-color: var(--fill-color);\n",
              "    }\n",
              "    20% {\n",
              "      border-color: transparent;\n",
              "      border-left-color: var(--fill-color);\n",
              "      border-top-color: var(--fill-color);\n",
              "    }\n",
              "    30% {\n",
              "      border-color: transparent;\n",
              "      border-left-color: var(--fill-color);\n",
              "      border-top-color: var(--fill-color);\n",
              "      border-right-color: var(--fill-color);\n",
              "    }\n",
              "    40% {\n",
              "      border-color: transparent;\n",
              "      border-right-color: var(--fill-color);\n",
              "      border-top-color: var(--fill-color);\n",
              "    }\n",
              "    60% {\n",
              "      border-color: transparent;\n",
              "      border-right-color: var(--fill-color);\n",
              "    }\n",
              "    80% {\n",
              "      border-color: transparent;\n",
              "      border-right-color: var(--fill-color);\n",
              "      border-bottom-color: var(--fill-color);\n",
              "    }\n",
              "    90% {\n",
              "      border-color: transparent;\n",
              "      border-bottom-color: var(--fill-color);\n",
              "    }\n",
              "  }\n",
              "</style>\n",
              "\n",
              "  <script>\n",
              "    async function quickchart(key) {\n",
              "      const quickchartButtonEl =\n",
              "        document.querySelector('#' + key + ' button');\n",
              "      quickchartButtonEl.disabled = true;  // To prevent multiple clicks.\n",
              "      quickchartButtonEl.classList.add('colab-df-spinner');\n",
              "      try {\n",
              "        const charts = await google.colab.kernel.invokeFunction(\n",
              "            'suggestCharts', [key], {});\n",
              "      } catch (error) {\n",
              "        console.error('Error during call to suggestCharts:', error);\n",
              "      }\n",
              "      quickchartButtonEl.classList.remove('colab-df-spinner');\n",
              "      quickchartButtonEl.classList.add('colab-df-quickchart-complete');\n",
              "    }\n",
              "    (() => {\n",
              "      let quickchartButtonEl =\n",
              "        document.querySelector('#df-d1f056c8-b1ae-4ff0-9eaf-91671279433a button');\n",
              "      quickchartButtonEl.style.display =\n",
              "        google.colab.kernel.accessAllowed ? 'block' : 'none';\n",
              "    })();\n",
              "  </script>\n",
              "</div>\n",
              "\n",
              "    </div>\n",
              "  </div>\n"
            ]
          },
          "metadata": {},
          "execution_count": 120
        }
      ]
    },
    {
      "cell_type": "code",
      "source": [
        "df.info()"
      ],
      "metadata": {
        "colab": {
          "base_uri": "https://localhost:8080/",
          "height": 0
        },
        "id": "wPYhmmXqvj7S",
        "outputId": "fe934112-53af-4024-ecb9-5ea1d9c0d2c4"
      },
      "execution_count": 121,
      "outputs": [
        {
          "output_type": "stream",
          "name": "stdout",
          "text": [
            "<class 'pandas.core.frame.DataFrame'>\n",
            "RangeIndex: 1000 entries, 0 to 999\n",
            "Data columns (total 8 columns):\n",
            " #   Column                                                                                                                               Non-Null Count  Dtype \n",
            "---  ------                                                                                                                               --------------  ----- \n",
            " 0   Date of Birth                                                                                                                        1000 non-null   object\n",
            " 1   What is your current profession?                                                                                                     1000 non-null   object\n",
            " 2   What is the year of completion of your Highest Education Qualification?                                                              1000 non-null   object\n",
            " 3   Which of the following best describes you?                                                                                           1000 non-null   object\n",
            " 4   Please mention the name of the institute where you have completed or are currently pursuing your Data Science Certification Course.  678 non-null    object\n",
            " 5   In case your certification institute is \"Innomatics Research Labs\", please provide your Enrolled Batch Number.                       338 non-null    object\n",
            " 6   Please indicate the time that suits you for your daily LIVE interaction with our Chief Data Scientist as part of your internship.    1000 non-null   object\n",
            " 7   What do you think are most important skill right now for a skilled Data Scientist?                                                   1000 non-null   object\n",
            "dtypes: object(8)\n",
            "memory usage: 62.6+ KB\n"
          ]
        }
      ]
    },
    {
      "cell_type": "markdown",
      "source": [
        "#### **Inference 1**: only column 4 and 5 contains null values.\n",
        "\n",
        "#### **Inference 2**: column 1 (\"Date of Birth\") is not a datetime object."
      ],
      "metadata": {
        "id": "zFVs6lbhv_G_"
      }
    },
    {
      "cell_type": "code",
      "source": [
        "# convert to datetime object\n",
        "df['Date of Birth']= pd.to_datetime(df['Date of Birth'])\n",
        "type(df['Date of Birth'][0])"
      ],
      "metadata": {
        "colab": {
          "base_uri": "https://localhost:8080/",
          "height": 0
        },
        "id": "bmDvXB15v98g",
        "outputId": "27037766-aa50-4dc3-eefb-1b5105a4a876"
      },
      "execution_count": 122,
      "outputs": [
        {
          "output_type": "execute_result",
          "data": {
            "text/plain": [
              "pandas._libs.tslibs.timestamps.Timestamp"
            ]
          },
          "metadata": {},
          "execution_count": 122
        }
      ]
    },
    {
      "cell_type": "code",
      "source": [
        "# Filter the column based on the condition using regex\n",
        "innomatics_institutes = df[df['Please mention the name of the institute where you have completed or are currently pursuing your Data Science Certification Course.'].str.contains(r'innomatic', case=False, na=False)]\n",
        "\n",
        "# Extract unique entries\n",
        "unique_innomatics_institutes = innomatics_institutes['Please mention the name of the institute where you have completed or are currently pursuing your Data Science Certification Course.'].unique()\n",
        "\n",
        "# print(\"Unique entries containing 'innomatic' (case insensitive):\")\n",
        "print(unique_innomatics_institutes)\n"
      ],
      "metadata": {
        "colab": {
          "base_uri": "https://localhost:8080/",
          "height": 0
        },
        "id": "XPat8p0Ovj4u",
        "outputId": "89c06bb8-2e05-46df-e9f2-3de844245dcc"
      },
      "execution_count": 140,
      "outputs": [
        {
          "output_type": "stream",
          "name": "stdout",
          "text": [
            "['Innomatic Research Lab']\n"
          ]
        }
      ]
    },
    {
      "cell_type": "code",
      "source": [
        "# Use regex to replace variations with the standard entry, ignoring case\n",
        "df['Please mention the name of the institute where you have completed or are currently pursuing your Data Science Certification Course.'] = df['Please mention the name of the institute where you have completed or are currently pursuing your Data Science Certification Course.'].replace(r'(?i).*innomatic.*', 'Innomatics Research Lab', regex=True)\n",
        "\n",
        "# Display the standardized entries\n",
        "# print(df['Please mention the name of the institute where you have completed or are currently pursuing your Data Science Certification Course.'])"
      ],
      "metadata": {
        "id": "Sgk-fVW67tHC"
      },
      "execution_count": 143,
      "outputs": []
    },
    {
      "cell_type": "code",
      "source": [
        "df['In case your certification institute is \"Innomatics Research Labs\", please provide your Enrolled Batch Number.'] = df['In case your certification institute is \"Innomatics Research Labs\", please provide your Enrolled Batch Number.'].replace(['Na', 'na','NA'], np.nan)"
      ],
      "metadata": {
        "id": "xNHGsXczsEWW"
      },
      "execution_count": 125,
      "outputs": []
    },
    {
      "cell_type": "markdown",
      "source": [
        "1. What is the current profession of most interns?"
      ],
      "metadata": {
        "id": "JlL7A4_vFe-m"
      }
    },
    {
      "cell_type": "code",
      "source": [
        "prof_majority = df['What is your current profession?'].value_counts().idxmax()\n",
        "prof_majority"
      ],
      "metadata": {
        "colab": {
          "base_uri": "https://localhost:8080/",
          "height": 35
        },
        "id": "S41rPJ1JeMkZ",
        "outputId": "1e8b6cd1-0530-42e8-9e8f-b93a71f1d858"
      },
      "execution_count": 126,
      "outputs": [
        {
          "output_type": "execute_result",
          "data": {
            "text/plain": [
              "'Student (I am currently enrolled in some Educational Program)'"
            ],
            "application/vnd.google.colaboratory.intrinsic+json": {
              "type": "string"
            }
          },
          "metadata": {},
          "execution_count": 126
        }
      ]
    },
    {
      "cell_type": "markdown",
      "source": [
        "2. What are the preferred LIVE session timings?"
      ],
      "metadata": {
        "id": "ue6j6lyEFomO"
      }
    },
    {
      "cell_type": "code",
      "source": [
        "most_pref_time = df['Please indicate the time that suits you for your daily LIVE interaction with our Chief Data Scientist as part of your internship.'].value_counts().idxmax()\n",
        "\n",
        "print(most_pref_time)"
      ],
      "metadata": {
        "colab": {
          "base_uri": "https://localhost:8080/",
          "height": 0
        },
        "id": "oJ3I56Ipe01N",
        "outputId": "0d9a071c-096b-433e-d7d4-0c1e4c66eaa3"
      },
      "execution_count": 127,
      "outputs": [
        {
          "output_type": "stream",
          "name": "stdout",
          "text": [
            "6:00 to 7:00 PM IST\n"
          ]
        }
      ]
    },
    {
      "cell_type": "markdown",
      "source": [
        "3. How many interns enrolled in data science professional courses?"
      ],
      "metadata": {
        "id": "3ocnJz1lFrXd"
      }
    },
    {
      "cell_type": "code",
      "source": [
        "# Assuming all the students who doesent provided the certification details are not enrolled in any course\n",
        "ds_enrolled = df['Please mention the name of the institute where you have completed or are currently pursuing your Data Science Certification Course.'].count()\n",
        "ds_enrolled"
      ],
      "metadata": {
        "colab": {
          "base_uri": "https://localhost:8080/",
          "height": 0
        },
        "id": "MHAG4E9SfZdK",
        "outputId": "2c7d2d84-1b29-488b-ab44-6f6f7aac31a2"
      },
      "execution_count": 128,
      "outputs": [
        {
          "output_type": "execute_result",
          "data": {
            "text/plain": [
              "678"
            ]
          },
          "metadata": {},
          "execution_count": 128
        }
      ]
    },
    {
      "cell_type": "markdown",
      "source": [
        "4. For interns who never enrolled in a data science course, what is the current profession of the majority of them?"
      ],
      "metadata": {
        "id": "EQANly4FFrT8"
      }
    },
    {
      "cell_type": "code",
      "source": [
        "pro= df[df[\"Which of the following best describes you?\"]==\"I have never enrolled in any certification courses\"].value_counts(\"What is your current profession?\").idxmax()\n",
        "print(pro)"
      ],
      "metadata": {
        "colab": {
          "base_uri": "https://localhost:8080/",
          "height": 0
        },
        "id": "mEKm6xg_gxQg",
        "outputId": "dae26a02-0862-4226-80be-91e10b325ec6"
      },
      "execution_count": 129,
      "outputs": [
        {
          "output_type": "stream",
          "name": "stdout",
          "text": [
            "Student (I am currently enrolled in some Educational Program)\n"
          ]
        }
      ]
    },
    {
      "cell_type": "markdown",
      "source": [
        "5. a. What is the minimum age of an intern at Innomatics Research Labs?"
      ],
      "metadata": {
        "id": "TyUFmVKGFrBB"
      }
    },
    {
      "cell_type": "code",
      "source": [
        "df['Age'] = (pd.Timestamp.now() - df['Date of Birth']).astype('<m8[Y]')\n",
        "innomatics_interns = df[df['Please mention the name of the institute where you have completed or are currently pursuing your Data Science Certification Course.'] == 'Innomatics Research Lab']\n",
        "innomatics_interns['Age'].min()"
      ],
      "metadata": {
        "colab": {
          "base_uri": "https://localhost:8080/",
          "height": 0
        },
        "id": "WyC1ngyohTAV",
        "outputId": "66e47072-c0d8-47ef-87f5-da55a7ac126e"
      },
      "execution_count": 145,
      "outputs": [
        {
          "output_type": "execute_result",
          "data": {
            "text/plain": [
              "19.0"
            ]
          },
          "metadata": {},
          "execution_count": 145
        }
      ]
    },
    {
      "cell_type": "markdown",
      "source": [
        "5. b. How many interns were born on a Sunday?"
      ],
      "metadata": {
        "id": "NJpMZ9CpFq9d"
      }
    },
    {
      "cell_type": "code",
      "source": [
        "df['Day of Week'] = df['Date of Birth'].dt.dayofweek\n",
        "sunday_count = (df['Day of Week'] == 6).sum()\n",
        "sunday_count"
      ],
      "metadata": {
        "colab": {
          "base_uri": "https://localhost:8080/",
          "height": 0
        },
        "id": "SC3phQ1Kh_qW",
        "outputId": "569a7230-f42c-4388-e30a-4f7660dfc61d"
      },
      "execution_count": 131,
      "outputs": [
        {
          "output_type": "execute_result",
          "data": {
            "text/plain": [
              "125"
            ]
          },
          "metadata": {},
          "execution_count": 131
        }
      ]
    },
    {
      "cell_type": "markdown",
      "source": [
        "5. c. In which month do the majority of interns are born?"
      ],
      "metadata": {
        "id": "j5yJU_Z1Fq6z"
      }
    },
    {
      "cell_type": "code",
      "source": [
        "df['Month'] = df['Date of Birth'].dt.month\n",
        "most_common_month = df['Month'].mode()[0]\n",
        "most_common_month    #i.e = Aug"
      ],
      "metadata": {
        "colab": {
          "base_uri": "https://localhost:8080/",
          "height": 0
        },
        "id": "z55g79jKiP6u",
        "outputId": "de6be4af-1146-4e2a-fb37-bc394de8086e"
      },
      "execution_count": 132,
      "outputs": [
        {
          "output_type": "execute_result",
          "data": {
            "text/plain": [
              "7"
            ]
          },
          "metadata": {},
          "execution_count": 132
        }
      ]
    },
    {
      "cell_type": "markdown",
      "source": [
        "5. d. What is the average age of a working professional?"
      ],
      "metadata": {
        "id": "US-R8GNgFq4S"
      }
    },
    {
      "cell_type": "code",
      "source": [
        "working_professionals_df = df[df[\"What is your current profession?\"] ==  'Working Professional (I have completed my Education and working full time)']#.copy()\n",
        "avg_age_prof = working_professionals_df['Age'].mean()\n",
        "\n",
        "int(avg_age_prof)"
      ],
      "metadata": {
        "colab": {
          "base_uri": "https://localhost:8080/",
          "height": 0
        },
        "id": "IvmfW_AviqDX",
        "outputId": "0a173fe6-5225-4a2e-f36f-0c865a2cb391"
      },
      "execution_count": 133,
      "outputs": [
        {
          "output_type": "execute_result",
          "data": {
            "text/plain": [
              "26"
            ]
          },
          "metadata": {},
          "execution_count": 133
        }
      ]
    },
    {
      "cell_type": "markdown",
      "source": [
        "5. e. What is the maximum age of a freelancer?"
      ],
      "metadata": {
        "id": "a7APsZc3GSqQ"
      }
    },
    {
      "cell_type": "code",
      "source": [
        "freelancer_df = df[df[\"What is your current profession?\"] == 'Freelancer (I have completed my Education and working part time or owns a business)']\n",
        "max_age_freelancer = freelancer_df['Age'].max()\n",
        "max_age_freelancer"
      ],
      "metadata": {
        "colab": {
          "base_uri": "https://localhost:8080/",
          "height": 0
        },
        "id": "DjBbnz0MjhqT",
        "outputId": "b42053aa-e0a5-4e09-ef5b-e2ba17c9796b"
      },
      "execution_count": 134,
      "outputs": [
        {
          "output_type": "execute_result",
          "data": {
            "text/plain": [
              "43.0"
            ]
          },
          "metadata": {},
          "execution_count": 134
        }
      ]
    },
    {
      "cell_type": "markdown",
      "source": [
        "6. Which skill is the most important for a data scientist?"
      ],
      "metadata": {
        "id": "MKjJhr6jGSms"
      }
    },
    {
      "cell_type": "code",
      "source": [
        "imp_skills = df['What do you think are most important skill right now for a skilled Data Scientist?'].mode()[0]\n",
        "imp_skills\n"
      ],
      "metadata": {
        "colab": {
          "base_uri": "https://localhost:8080/",
          "height": 35
        },
        "id": "4BOGhhcbkGBA",
        "outputId": "49894354-7a1a-48f7-8424-60c7cf668195"
      },
      "execution_count": 135,
      "outputs": [
        {
          "output_type": "execute_result",
          "data": {
            "text/plain": [
              "'Extracting actionable insights from the raw data, Data Modelling, LLMs, MLOps, Basics of backend application development using python, Prompt Engineering'"
            ],
            "application/vnd.google.colaboratory.intrinsic+json": {
              "type": "string"
            }
          },
          "metadata": {},
          "execution_count": 135
        }
      ]
    },
    {
      "cell_type": "markdown",
      "source": [
        "7. How many interns selected “Prompt Engineering” as the most important skill?"
      ],
      "metadata": {
        "id": "9Y6UbfqRGZo-"
      }
    },
    {
      "cell_type": "code",
      "source": [
        "pe= df[df[\"What do you think are most important skill right now for a skilled Data Scientist?\"]== \"Prompt Engineering\"]\n",
        "len(pe)"
      ],
      "metadata": {
        "colab": {
          "base_uri": "https://localhost:8080/",
          "height": 0
        },
        "id": "gtzAusBVkvLx",
        "outputId": "c09bb5aa-497b-4ea9-be2c-5ff5ee0f95ee"
      },
      "execution_count": 136,
      "outputs": [
        {
          "output_type": "execute_result",
          "data": {
            "text/plain": [
              "7"
            ]
          },
          "metadata": {},
          "execution_count": 136
        }
      ]
    },
    {
      "cell_type": "markdown",
      "source": [
        "8. Let’s do our final analysis now. Let’s try to learn about the institute from where interns have completed or are pursuing their data science courses."
      ],
      "metadata": {
        "id": "hcUrQuFLGZlg"
      }
    },
    {
      "cell_type": "markdown",
      "source": [
        "8. a. How many interns didn’t mention the name of the data science institute from where they completed or are currently pursuing the courses?"
      ],
      "metadata": {
        "id": "D0UAKvkYGZX-"
      }
    },
    {
      "cell_type": "code",
      "source": [
        "df[\"Please mention the name of the institute where you have completed or are currently pursuing your Data Science Certification Course.\"].isna().sum()\n"
      ],
      "metadata": {
        "colab": {
          "base_uri": "https://localhost:8080/",
          "height": 0
        },
        "id": "55b4sSrVnKuB",
        "outputId": "cc9b6b2b-8639-417e-c37a-b9de00f0a994"
      },
      "execution_count": 148,
      "outputs": [
        {
          "output_type": "execute_result",
          "data": {
            "text/plain": [
              "322"
            ]
          },
          "metadata": {},
          "execution_count": 148
        }
      ]
    },
    {
      "cell_type": "markdown",
      "source": [
        "8. b. How many interns mentioned Innomatics as their data science institute?"
      ],
      "metadata": {
        "id": "SGdQoUzXGZUX"
      }
    },
    {
      "cell_type": "code",
      "source": [
        "inno_studs= df[df[\"Please mention the name of the institute where you have completed or are currently pursuing your Data Science Certification Course.\"]== 'Innomatics Research Lab']\n",
        "len(inno_studs)"
      ],
      "metadata": {
        "colab": {
          "base_uri": "https://localhost:8080/",
          "height": 0
        },
        "id": "egUPgwk3BLz-",
        "outputId": "302535ee-a032-4f17-d2bd-8b31dd1ccd82"
      },
      "execution_count": 147,
      "outputs": [
        {
          "output_type": "execute_result",
          "data": {
            "text/plain": [
              "282"
            ]
          },
          "metadata": {},
          "execution_count": 147
        }
      ]
    },
    {
      "cell_type": "code",
      "source": [
        "sf=df[~(df['In case your certification institute is \"Innomatics Research Labs\", please provide your Enrolled Batch Number.'].isna())]"
      ],
      "metadata": {
        "id": "7XDXtdtypjwj"
      },
      "execution_count": 139,
      "outputs": []
    },
    {
      "cell_type": "code",
      "source": [],
      "metadata": {
        "id": "TB9GIMnyqSs0"
      },
      "execution_count": 139,
      "outputs": []
    },
    {
      "cell_type": "code",
      "source": [],
      "metadata": {
        "id": "ChqlTe4etzDn"
      },
      "execution_count": 139,
      "outputs": []
    }
  ]
}