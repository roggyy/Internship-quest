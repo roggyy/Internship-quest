{
  "nbformat": 4,
  "nbformat_minor": 0,
  "metadata": {
    "colab": {
      "provenance": [],
      "authorship_tag": "ABX9TyOQaXvEwlX+g8PqkJvHL5AI",
      "include_colab_link": true
    },
    "kernelspec": {
      "name": "python3",
      "display_name": "Python 3"
    },
    "language_info": {
      "name": "python"
    }
  },
  "cells": [
    {
      "cell_type": "markdown",
      "metadata": {
        "id": "view-in-github",
        "colab_type": "text"
      },
      "source": [
        "<a href=\"https://colab.research.google.com/github/roggyy/Internship-quest/blob/main/xml_headings_and_sub_headings.ipynb\" target=\"_parent\"><img src=\"https://colab.research.google.com/assets/colab-badge.svg\" alt=\"Open In Colab\"/></a>"
      ]
    },
    {
      "cell_type": "code",
      "execution_count": 10,
      "metadata": {
        "colab": {
          "base_uri": "https://localhost:8080/"
        },
        "id": "RSrazwVpU9Tr",
        "outputId": "8ed8a01c-51fc-4ef4-9525-12d31301f426"
      },
      "outputs": [
        {
          "output_type": "stream",
          "name": "stdout",
          "text": [
            "2.1 UNDERSTANDING THE CHEMICAL PROPERTIES OF ACIDS AND BASES\n",
            "2.2 WHAT DO ALL ACIDS AND ALL BASES HAVE IN COMMON?\n",
            "2.3 HOW STRONG ARE ACID OR BASE SOLUTIONS?\n",
            "2.3.1 Importance of pH in Everyday Life\n",
            "2.4 MORE ABOUT SALTS\n"
          ]
        }
      ],
      "source": [
        "import xml.etree.ElementTree as ET\n",
        "import re\n",
        "\n",
        "# Path to your XML file\n",
        "xml_file_path = '/content/jesc102.xml'\n",
        "\n",
        "try:\n",
        "    # Parse the XML file\n",
        "    tree = ET.parse(xml_file_path)\n",
        "    root = tree.getroot()\n",
        "\n",
        "    # Merge all 'ActualText' strings from Figure tags within H3\n",
        "    merged_text = \"\"\n",
        "    for figure in root.findall('.//H3/Figure'):\n",
        "        actual_text = figure.get('ActualText')\n",
        "        if actual_text:\n",
        "            merged_text += actual_text + \"\"  # Merge 'ActualText' strings with a space separator\n",
        "\n",
        "    # print(merged_text)\n",
        "\n",
        "    # Splitting text based on patterns (e.g., numeric patterns followed by text)\n",
        "    sections = re.findall(r'\\d+\\.\\d+(?:\\s+\\w+)?[\\s\\S]*?(?=\\d+\\.\\d+|\\Z)', merged_text)\n",
        "\n",
        "    # Formatting each section\n",
        "    formatted_sections = []\n",
        "    for section in sections:\n",
        "        section = re.sub(r'\\n', ' ', section)  # Replace newline characters with spaces\n",
        "        section = re.sub(r'(\\d+\\.\\d+\\s+)([A-Z])', r'\\1\\n\\2', section)  # Add newline after the numeric pattern and uppercase letter\n",
        "        section = re.sub(r'\\s+', ' ', section)  # Remove extra spaces\n",
        "        formatted_sections.append(section.strip())\n",
        "\n",
        "    # Print formatted sections\n",
        "    for section in formatted_sections:\n",
        "        print(section)\n",
        "\n",
        "\n",
        "\n",
        "except ET.ParseError as e:\n",
        "    print(\"XML parsing error:\", e)\n",
        "except FileNotFoundError:\n",
        "    print(\"File not found. Please provide the correct path to the XML file.\")"
      ]
    },
    {
      "cell_type": "code",
      "source": [
        "    for elem in root.iter('H3'):\n",
        "        if elem.text:\n",
        "            print(elem.text.strip())"
      ],
      "metadata": {
        "colab": {
          "base_uri": "https://localhost:8080/"
        },
        "id": "Ssg6sR2uVg9F",
        "outputId": "322c5685-c7dd-4845-f26b-e5a45ab8d68c"
      },
      "execution_count": 8,
      "outputs": [
        {
          "output_type": "stream",
          "name": "stdout",
          "text": [
            "2.1.1 Acids and Bases in the Laboratory\n",
            "2.1.2 How do Acids and Bases React with Metals?\n",
            "2.1.3 How do Metal Carbonates and Metal Hydrogencarbonates React with Acids?\n",
            "2.1.4 How do Acids and Bases React with each other?\n",
            "2.1.5 Reaction of Metallic Oxides with Acids\n",
            "2.1.6 Reaction of a Non-metallic Oxide with Base\n",
            "2.2.1 What Happens to an Acid or a Base in a Water Solution?\n",
            "2.4.1 Family of Salts\n",
            "2.4.2 pH of Salts\n",
            "2.4.3 Chemicals from Common Salt\n",
            "2.4.4 Are the Crystals of Salts really Dry?\n"
          ]
        }
      ]
    },
    {
      "cell_type": "code",
      "source": [],
      "metadata": {
        "id": "sClKq_EFZ9IE"
      },
      "execution_count": null,
      "outputs": []
    }
  ]
}